{
    "metadata": {
        "kernelspec": {
            "name": "SQL",
            "display_name": "SQL",
            "language": "sql"
        },
        "language_info": {
            "name": "sql",
            "version": ""
        }
    },
    "nbformat_minor": 2,
    "nbformat": 4,
    "cells": [
        {
            "cell_type": "markdown",
            "source": [
                "# Cleaning Nashville Housing Data in SQL"
            ],
            "metadata": {
                "azdata_cell_guid": "7f399d83-0de9-4cb0-9a22-618f2367b307"
            },
            "attachments": {}
        },
        {
            "cell_type": "code",
            "source": [
                "-- Viewing All Data\n",
                "SELECT *\n",
                "FROM ..NashvilleHousing\n",
                ""
            ],
            "metadata": {
                "azdata_cell_guid": "c9e92110-47bd-4557-ac6d-19ae69ae9f0d",
                "language": "sql",
                "tags": []
            },
            "outputs": [],
            "execution_count": null
        },
        {
            "cell_type": "markdown",
            "source": [
                "## 1.  Standardized Date Format"
            ],
            "metadata": {
                "language": "sql",
                "azdata_cell_guid": "95cd016a-ec31-4b96-a41e-7b05db587ea2"
            },
            "attachments": {}
        },
        {
            "cell_type": "code",
            "source": [
                "-- Removing Time Stamp from Date (Serves No Purpose)\n",
                "Select SaleDate, CONVERT(Date, SaleDate)\n",
                "From ..NashvilleHousing\n",
                "\n",
                ""
            ],
            "metadata": {
                "language": "sql",
                "azdata_cell_guid": "03d70f22-7bf9-4bbf-8653-f760179dddc8",
                "tags": [
                    "hide_input"
                ]
            },
            "outputs": [],
            "execution_count": null
        },
        {
            "cell_type": "code",
            "source": [
                "-- Updating Date Column\n",
                "Update NashvilleHousing\n",
                "Set SaleDate = Convert(Date,SaleDate)"
            ],
            "metadata": {
                "language": "sql",
                "azdata_cell_guid": "c884ecfb-09bc-4bbf-b050-1f5c6cf70711"
            },
            "outputs": [
                {
                    "output_type": "display_data",
                    "data": {
                        "text/html": "(56373 rows affected)"
                    },
                    "metadata": {}
                },
                {
                    "output_type": "display_data",
                    "data": {
                        "text/html": "Total execution time: 00:00:00.214"
                    },
                    "metadata": {}
                }
            ],
            "execution_count": 3
        },
        {
            "cell_type": "markdown",
            "source": [
                "## 2\\. Populating Missing Property Addresses"
            ],
            "metadata": {
                "language": "sql",
                "azdata_cell_guid": "da1ac703-8aef-4974-b9d1-963f0de4b120"
            },
            "attachments": {}
        },
        {
            "cell_type": "code",
            "source": [
                "-- Finding Where Property Addresses are Null\n",
                "Select *\n",
                "From housingData.dbo.NashvilleHousing\n",
                "Where PropertyAddress is NULL"
            ],
            "metadata": {
                "language": "sql",
                "azdata_cell_guid": "a1a84a6e-8b3e-40da-abc9-6b38183e1d21"
            },
            "outputs": [],
            "execution_count": null
        },
        {
            "cell_type": "code",
            "source": [
                "-- Seeing if ParcelID can be used as a reference point to capture addresses\n",
                "Select *\n",
                "From housingData.dbo.NashvilleHousing\n",
                "Order BY ParcelID"
            ],
            "metadata": {
                "language": "sql",
                "azdata_cell_guid": "c31f7da7-394b-4faa-833e-d4aaf491bcfb"
            },
            "outputs": [],
            "execution_count": null
        },
        {
            "cell_type": "code",
            "source": [
                "-- Using ParcelID to populate Missing PropertyAddresses\n",
                "SELECT a.parcelID, a.PropertyAddress, b.parcelID, b.PropertyAddress, ISNULL(a.PropertyAddress, b.PropertyAddress)\n",
                "FROM ..NashvilleHousing a\n",
                "JOIN ..NashvilleHousing b\n",
                "    ON a.PARCELID = b.PARCELID\n",
                "    AND a.UNIQUEID <> b. UNIQUEID\n",
                "WHERE a.PropertyAddress is NULL"
            ],
            "metadata": {
                "language": "sql",
                "azdata_cell_guid": "3c1c35a9-65c7-4a4a-bdf5-88141f6b1009"
            },
            "outputs": [],
            "execution_count": null
        },
        {
            "cell_type": "code",
            "source": [
                "-- Updating Missing Addresses in PropertyAddress Column\n",
                "Update a\n",
                "SET PropertyAddress = ISNULL(a.PropertyAddress, b.PropertyAddress)\n",
                "FROM ..NashvilleHousing a\n",
                "JOIN ..NashvilleHousing b\n",
                "    ON a.PARCELID = b.PARCELID\n",
                "    AND a.UNIQUEID <> b. UNIQUEID"
            ],
            "metadata": {
                "language": "sql",
                "azdata_cell_guid": "de304e77-0696-4bd2-bed4-dd743eba5ba0",
                "tags": []
            },
            "outputs": [],
            "execution_count": null
        },
        {
            "cell_type": "markdown",
            "source": [
                "After populating all of the missing addresses, the column can now be used to make accurate remarks about the locations of the houses for sale in Nashville. Previously with the missing data, results would be miss leading as it wouldn't account for all of the properties that were missing the data for that column. We can use the addresses of the houses for sale to see which locations have the most houses for sale. We can then find specific reasons to why these locations have the most houses for sale and see whether its because the location has higher demand, or if its because of factors that are preventing the houses from being sold in that area."
            ],
            "metadata": {
                "language": "sql",
                "azdata_cell_guid": "9ac1c410-c080-4b77-9593-9266e84e8879"
            },
            "attachments": {}
        },
        {
            "cell_type": "markdown",
            "source": [
                "## 3\\. Breaking Property Address into Individual Columns (Address, City)"
            ],
            "metadata": {
                "language": "sql",
                "azdata_cell_guid": "4e0ccfb2-f85b-4537-895f-ce7a94769e01"
            },
            "attachments": {}
        },
        {
            "cell_type": "code",
            "source": [
                "Select PropertyAddress\n",
                "FROM ..NashvilleHousing"
            ],
            "metadata": {
                "language": "sql",
                "azdata_cell_guid": "045372e8-33ee-4c11-bbd3-e01741112d67",
                "tags": []
            },
            "outputs": [],
            "execution_count": null
        },
        {
            "cell_type": "code",
            "source": [
                "-- Split The Address into seperate columns where there is a comma using Substring\n",
                "SELECT\n",
                "SUBSTRING(PropertyAddress, 1, CHARINDEX(',', PropertyAddress)-1 ) AS Address\n",
                ", SUBSTRING(PropertyAddress, CHARINDEX(',', PropertyAddress) +1, LEN(PropertyAddress)) AS City\n",
                "FROM ..NashvilleHousing "
            ],
            "metadata": {
                "language": "sql",
                "azdata_cell_guid": "aa94caaa-4949-47db-b1ee-e35bd99178fd",
                "tags": []
            },
            "outputs": [],
            "execution_count": null
        },
        {
            "cell_type": "code",
            "source": [
                "--Adding New Columns for Address and City to Table\n",
                "ALTER TABLE NashvilleHousing\n",
                "Add PropertySplitAddress NVARCHAR(225);\n",
                "\n",
                "ALTER TABLE NashvilleHousing\n",
                "Add PropertySplitCity NVARCHAR(225);\n",
                "\n",
                "UPDATE NashvilleHousing\n",
                "SET PropertySplitAddress = SUBSTRING(PropertyAddress, 1, CHARINDEX(',', PropertyAddress)-1 )\n",
                "\n",
                "UPDATE NashvilleHousing\n",
                "SET PropertySplitCity = SUBSTRING(PropertyAddress, CHARINDEX(',', PropertyAddress) +1, LEN(PropertyAddress))"
            ],
            "metadata": {
                "language": "sql",
                "azdata_cell_guid": "8d80d935-5075-4822-94b8-181f0f68d9d6",
                "tags": []
            },
            "outputs": [],
            "execution_count": null
        },
        {
            "cell_type": "markdown",
            "source": [
                "## 4\\. Splitting Owner Address into Individual Columns (Address, City, State)"
            ],
            "metadata": {
                "language": "sql",
                "azdata_cell_guid": "a8360c5c-b259-4110-bf31-4024d6403717"
            },
            "attachments": {}
        },
        {
            "cell_type": "code",
            "source": [
                "SELECT n.OwnerAddress\n",
                "FROM ..NashvilleHousing n"
            ],
            "metadata": {
                "language": "sql",
                "azdata_cell_guid": "c4749be5-83cc-4ff9-bebb-9f108ba572d6"
            },
            "outputs": [],
            "execution_count": null
        },
        {
            "cell_type": "code",
            "source": [
                "--Using Parsename to split Address into seperate Columns by Replacing commas with periods\n",
                "Select\n",
                "PARSENAME(REPLACE(OwnerAddress, ',', '.') , 3) AS Addres\n",
                ", PARSENAME(REPLACE(OwnerAddress, ',', '.') , 2) AS City\n",
                ", PARSENAME(REPLACE(OwnerAddress, ',', '.') , 1) As State\n",
                "FROM ..NashvilleHousing "
            ],
            "metadata": {
                "language": "sql",
                "azdata_cell_guid": "fd934059-e79f-4691-82f7-900ca430018f",
                "tags": []
            },
            "outputs": [],
            "execution_count": null
        },
        {
            "cell_type": "code",
            "source": [
                "-- Adding new  columns to table\n",
                "ALTER TABLE NashvilleHousing\n",
                "Add OwnerSplitAddress NVARCHAR(225);\n",
                "ALTER TABLE NashvilleHousing\n",
                "Add OwnerSplitCity NVARCHAR(225);\n",
                "ALTER TABLE NashvilleHousing\n",
                "Add OwnerSplitState NVARCHAR(225);\n",
                "\n",
                "UPDATE NashvilleHousing\n",
                "SET OwnerSplitAddress = PARSENAME(REPLACE(OwnerAddress, ',', '.') , 3)\n",
                "UPDATE NashvilleHousing\n",
                "SET OwnerSplitCity = PARSENAME(REPLACE(OwnerAddress, ',', '.') , 2)\n",
                "UPDATE NashvilleHousing\n",
                "SET OwnerSplitState = PARSENAME(REPLACE(OwnerAddress, ',', '.') , 1)"
            ],
            "metadata": {
                "language": "sql",
                "azdata_cell_guid": "112fba61-23af-41b2-a06b-3c726ba06e26"
            },
            "outputs": [],
            "execution_count": null
        },
        {
            "cell_type": "markdown",
            "source": [
                "## 5\\. Updating Format in \"Sold as Vacant\" column (Chainging Y and N to Yes and No)"
            ],
            "metadata": {
                "language": "sql",
                "azdata_cell_guid": "dcea4695-1b11-4e2d-a872-6134b4a17775"
            },
            "attachments": {}
        },
        {
            "cell_type": "code",
            "source": [
                "Select Distinct(SoldAsVacant), Count(SoldAsVacant)\n",
                "From ..NashvilleHousing\n",
                "Group By SoldAsVacant\n",
                "Order by 2 DESC\n",
                "\n",
                "\n",
                "Select SoldAsVacant\n",
                ",   CASE WHEN SoldAsVacant = 'Y' THEN 'YES'\n",
                "        WHEN SoldAsVacant = 'N' THEN 'NO'\n",
                "        ELSE SoldAsVacant\n",
                "    END\n",
                "\n",
                "From ..NashvilleHousing"
            ],
            "metadata": {
                "language": "sql",
                "azdata_cell_guid": "94b66001-adb4-4999-93fe-bb83728b3ae1",
                "tags": []
            },
            "outputs": [],
            "execution_count": null
        },
        {
            "cell_type": "code",
            "source": [
                "-- Updating \"SoldAsVacant\" Column\n",
                "UPDATE NashvilleHousing\n",
                "SET SoldAsVacant =  CASE WHEN SoldAsVacant = 'Y' THEN 'YES'\n",
                "                    WHEN SoldAsVacant = 'N' THEN 'NO'\n",
                "                    ELSE SoldAsVacant\n",
                "                    END\n",
                ""
            ],
            "metadata": {
                "language": "sql",
                "azdata_cell_guid": "4d440797-f523-4a51-b627-5af04b9e242e"
            },
            "outputs": [],
            "execution_count": null
        },
        {
            "cell_type": "markdown",
            "source": [
                "Creating consistant formatting allows for easy and accurate displayment of which properties are sold as vacant, and which are not."
            ],
            "metadata": {
                "language": "sql",
                "azdata_cell_guid": "1b22dba9-f5c3-4e25-9cfa-b6ea4b080904"
            },
            "attachments": {}
        },
        {
            "cell_type": "markdown",
            "source": [
                "## 6\\. Removing Duplicates"
            ],
            "metadata": {
                "language": "sql",
                "azdata_cell_guid": "69e5bf78-64e0-414c-b6ad-5d72e9671a14"
            },
            "attachments": {}
        },
        {
            "cell_type": "code",
            "source": [
                "-- Finding All the Duplicates in the Table by Using Partition to count rows that have exact same information\n",
                "WITH RowNumCTE AS(\n",
                "SELECT *,\n",
                "    ROW_NUMBER() OVER (\n",
                "        PARTITION BY ParcelID,\n",
                "                    PropertyAddress,\n",
                "                    SalePrice,\n",
                "                    SaleDate,\n",
                "                    LegalReference\n",
                "                    ORDER BY \n",
                "                        UniqueID\n",
                "    ) row_num\n",
                "FROM ..NashvilleHousing\n",
                ")\n",
                "SELECT *\n",
                "FROM RowNumCTE\n",
                "Where row_num > 1\n",
                "Order BY PropertyAddress"
            ],
            "metadata": {
                "language": "sql",
                "azdata_cell_guid": "91d90780-ba66-44c6-b3f6-858d1005fcc0"
            },
            "outputs": [],
            "execution_count": null
        },
        {
            "cell_type": "code",
            "source": [
                "--Deleting Duplicate Rows Found\n",
                "WITH RowNumCTE AS(\n",
                "SELECT *,\n",
                "    ROW_NUMBER() OVER (\n",
                "        PARTITION BY ParcelID,\n",
                "                    PropertyAddress,\n",
                "                    SalePrice,\n",
                "                    SaleDate,\n",
                "                    LegalReference\n",
                "                    ORDER BY \n",
                "                        UniqueID\n",
                "    ) row_num\n",
                "FROM ..NashvilleHousing\n",
                ")\n",
                "Delete\n",
                "FROM RowNumCTE\n",
                "Where row_num > 1\n",
                ""
            ],
            "metadata": {
                "language": "sql",
                "azdata_cell_guid": "255adbd2-9ff4-4319-997d-c6a1010865f7"
            },
            "outputs": [],
            "execution_count": null
        },
        {
            "cell_type": "markdown",
            "source": [
                "Duplicate information can lead to business decisions that should not be made, and inaccuracy when analyzing the data. If an indivudal was to just view the number of properties for sale in a certain location, they could be misled by duplicate rows.  They could promise clients a property in a current location  thinking they have more avalaible than they actually do, leading them to be unable to meet the customers expectations. Also when creating specific filters, such as all properties above a certain sale price, or value, the results could be misleading due to the duplicates. Removing the dupliactes can help prevent these situations."
            ],
            "metadata": {
                "language": "sql",
                "azdata_cell_guid": "cbdd8da4-c2d4-4fae-a05d-0057ca9db7b7"
            },
            "attachments": {}
        },
        {
            "cell_type": "markdown",
            "source": [
                "## 7\\. Deleting Old Coulms that have been Replaced"
            ],
            "metadata": {
                "language": "sql",
                "azdata_cell_guid": "1757a2ee-c56d-4d58-9680-13567d91e42f"
            },
            "attachments": {}
        },
        {
            "cell_type": "code",
            "source": [
                "\n",
                "-- 7. Deleting Old Columns that have been Replaced\n",
                "SELECT *\n",
                "FROM ..NashvilleHousing\n",
                "\n",
                "ALTER TABLE ..NashvilleHousing\n",
                "DROP COLUMN OwnerAddress, PropertyAddress, TaxDistrict"
            ],
            "metadata": {
                "language": "sql",
                "azdata_cell_guid": "8efefb1f-273f-4654-80df-1df0a86173f6"
            },
            "outputs": [],
            "execution_count": null
        }
    ]
}